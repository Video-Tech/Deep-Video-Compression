{
 "cells": [
  {
   "cell_type": "code",
   "execution_count": null,
   "metadata": {},
   "outputs": [],
   "source": [
    "import os\n",
    "import time\n",
    "import glob\n",
    "import numpy as np"
   ]
  },
  {
   "cell_type": "code",
   "execution_count": null,
   "metadata": {},
   "outputs": [],
   "source": [
    "files = glob.glob('logs/*.log')\n",
    "d = []\n",
    "for f in files:\n",
    "    data = np.loadtxt(f)\n",
    "    for i in data:\n",
    "        d.append(int(i[4]/(i[5]*1000.0)))\n",
    "    break"
   ]
  },
  {
   "cell_type": "code",
   "execution_count": null,
   "metadata": {},
   "outputs": [],
   "source": [
    "os.system('tc qdisc add dev enp0s31f6 root handle 1: tbf rate 5mbit latency 1000ms burst 1540')\n",
    "for i in d:\n",
    "    print(i)\n",
    "    os.system('tc qdisc change dev enp0s31f6 root handle 1: tbf rate '+str(i)+'mbit latency 1000ms burst 1540')\n",
    "    time.sleep(5)\n",
    "os.system('sudo tc qdisc del dev enp0s31f6 root handle 1: tbf rate '+str(i)+'mbit latency 1000ms burst 1540')"
   ]
  },
  {
   "cell_type": "code",
   "execution_count": null,
   "metadata": {},
   "outputs": [],
   "source": []
  }
 ],
 "metadata": {
  "kernelspec": {
   "display_name": "Python 2",
   "language": "python",
   "name": "python2"
  },
  "language_info": {
   "codemirror_mode": {
    "name": "ipython",
    "version": 2
   },
   "file_extension": ".py",
   "mimetype": "text/x-python",
   "name": "python",
   "nbconvert_exporter": "python",
   "pygments_lexer": "ipython2",
   "version": "2.7.12"
  }
 },
 "nbformat": 4,
 "nbformat_minor": 2
}
